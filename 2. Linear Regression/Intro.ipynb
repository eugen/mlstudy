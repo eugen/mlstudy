{
 "cells": [
  {
   "cell_type": "markdown",
   "metadata": {},
   "source": [
    "# What is linear regression?\n",
    "\n",
    "Let's say you have a dataset with 2 variables. One being the age of a person, the other being the fee they pay yearly for auto insurance. And let's say that, starting from this data, we want to see if we are able to predict how much a person will need to pay based only on his age. \n",
    "\n",
    "In statistical terms, this is called performing **regression analysis** in order to estimate the relationship between the **independent** variable \"age\" and the **dependent** variable \"fee\".\n",
    "\n",
    "If we create a scatter plot for all our age & fee data it might look something like this:\n",
    "<img src=\"https://dl.dropboxusercontent.com/u/116126/regression/age_fee_plot_with_line.png\"> \n",
    "\n",
    "Unsurprisingly, you can observe from the chart that the fee does seem to go down with age. This suggests that there is, indeed, a correlation between age and fee. It's always a good idea to analyze your data first with some charts before attempting to build a regression model.\n",
    "\n",
    "We can also see that the chart contains a line that goes through the middle of the datapoints. That is what Excel calls the trendline. Fow now, let's just say that's the line that best fits our data, or that's closest to most points.\n",
    "\n",
    "Mathematically, the line can be expressed with a simple linear equation:\n",
    "\n",
    "```\n",
    "fee = a*age + b\n",
    "```\n",
    "\n",
    "Linear regression simply means that the predictions follow a line on the plane, or that the dependency between the variables is described with such a linear equation.\n",
    "\n",
    "Once we know the values `a` and `b`, we can start predicting the value of `fee` starting from values of `age`. For example, for `a = -12` and `b = 1100` we get the following predictionsn:\n",
    "\n",
    "|age|predicted_fee|\n",
    "|--|---|\n",
    "|10|980|\n",
    "|20|860|\n",
    "|30|740|\n",
    "|40|620|\n",
    "|50|500|\n",
    "|60|380|\n",
    "|70|260|\n",
    "|80|140|\n",
    "|90|20|\n",
    "|100|-100|\n",
    "\n",
    "The predictions seem fine for the most part, but it seems we have some minor issues for ages greater than 90 years.\n",
    "\n",
    "The values `a` and `b` are called **regression coefficients**, or sometimes **weights**. \n",
    "\n",
    "There are many methods and algorithms for determining the regression coefficients that describe the best fitting line from an initial dataset in very efficient ways, which is why linear regression is usually the first thing tried when training a model."
   ]
  },
  {
   "cell_type": "markdown",
   "metadata": {},
   "source": [
    "# What about multiple variables?\n",
    "\n",
    "Let's say we somehow managed to gather some more information about each person in the dataset. The following new variables are now available:\n",
    "\n",
    "* #previous_accidents\n",
    "* car_horse_power\n",
    "* gender\n",
    "* years_driven\n",
    "\n",
    "To improve our predictions we want to also take the values of these variables into consideration when predicting the fee.\n",
    "\n",
    "Linear regression can be applied just as well for any number of variables. Even though we can no longer represent all 6 dimensions graphically with a chart, the same principle holds. Instead of looking for a line on a plane, we can consider each data as a point in a 6-dimensional space (since we have 6 variables) and look for the 5-dimensional hyperplane. \n",
    "\n",
    "Mathematically, the equation is still linear, it just has more coefficients:\n",
    "\n",
    "```\n",
    "fee = a*age + b*previous_accidents + c*car_horse_power + d*gender + e*years_driven + f\n",
    "```"
   ]
  },
  {
   "cell_type": "markdown",
   "metadata": {},
   "source": [
    "# A bit more formal\n",
    "\n",
    "Let's try to formalize the notation a bit.\n",
    "\n",
    "Most models and will describe the inputs (usually named x) as an n-dimensional vector. This just means that there are n variables (x1, x2, ...):\n",
    "\n",
    "```\n",
    "x = (x1, x2, x3, x4, ..)\n",
    "```\n",
    "\n",
    "Their outputs (usually named y) can be simple values as in our insurance fee example, in which case the equation becomes:\n",
    "\n",
    "```\n",
    "y = a*x1 + b*x1 + c*x3 + d*x4 + e*x5 + f\n",
    "```\n",
    "\n",
    "Or expressed using weights instead of coefficients:\n",
    "\n",
    "```\n",
    "y = w1*x1 + w2*x1 + w3*x3 + w4*x4 + w5*x5 + w0\n",
    "```\n",
    "\n",
    "Using weights instead of coefficients has both mathematical as well as computational advantages: the list of weights is itself a vector, and the sum of ` w1*x1 + w2*x1 + ...` is called the dot product of the w and x vectors. This can be computed very efficiently."
   ]
  },
  {
   "cell_type": "markdown",
   "metadata": {
    "collapsed": true
   },
   "source": [
    "# WIP - TO BE CONTINUED"
   ]
  }
 ],
 "metadata": {
  "kernelspec": {
   "display_name": "Python 3",
   "language": "python",
   "name": "python3"
  },
  "language_info": {
   "codemirror_mode": {
    "name": "ipython",
    "version": 3
   },
   "file_extension": ".py",
   "mimetype": "text/x-python",
   "name": "python",
   "nbconvert_exporter": "python",
   "pygments_lexer": "ipython3",
   "version": "3.6.0"
  }
 },
 "nbformat": 4,
 "nbformat_minor": 2
}
